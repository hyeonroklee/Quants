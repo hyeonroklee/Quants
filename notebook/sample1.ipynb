{
 "cells": [
  {
   "cell_type": "code",
   "execution_count": 12,
   "metadata": {
    "collapsed": false
   },
   "outputs": [],
   "source": [
    "%matplotlib inline\n",
    "import numpy as np\n",
    "\n",
    "import matplotlib.pyplot as plt\n",
    "import matplotlib.finance as mfinance\n",
    "import matplotlib.dates as mdates\n",
    "import matplotlib.ticker as mticker\n",
    "import matplotlib.transforms as mtransforms\n",
    "\n",
    "import pandas as pd\n",
    "from pandas_datareader import data"
   ]
  },
  {
   "cell_type": "code",
   "execution_count": 55,
   "metadata": {
    "collapsed": false
   },
   "outputs": [],
   "source": [
    "from_date = '2016-01-01'\n",
    "to_date = '2016-06-01'\n",
    "stock_symbols = ['AAPL','GOOG','AMZN','FB','MSFT']\n",
    "stocks = {}\n",
    "for symbol in stock_symbols:\n",
    "    stocks[symbol] = data.DataReader(symbol,'yahoo',from_date,to_date)\n",
    "\n",
    "benchmark_symbol = 'SPY'\n",
    "benchmark = data.DataReader(benchmark_symbol,'yahoo',from_date,to_date)"
   ]
  },
  {
   "cell_type": "code",
   "execution_count": 27,
   "metadata": {
    "collapsed": false
   },
   "outputs": [],
   "source": [
    "def plot_chart(stock_data):\n",
    "    dates = [ mdates.date2num(date) for date in stock_data.index]\n",
    "    open_prices = stock_data['Open']\n",
    "    high_prices = stock_data['High']\n",
    "    low_prices = stock_data['Low']\n",
    "    close_prices = stock_data['Close']\n",
    "    volumes = stock_data['Volume'] if 'Volume' in stock_data.columns else None\n",
    "\n",
    "    chart_data = np.matrix([dates,open_prices,high_prices,low_prices,close_prices]).T.tolist()\n",
    "\n",
    "    fig = plt.figure(figsize=(15,8))\n",
    "    ax1 = plt.subplot2grid((5,4),(0,0),rowspan=4,colspan=4)\n",
    "    mfinance.candlestick_ohlc(ax1,chart_data,colorup='r',colordown='b',alpha=0.7,width=0.7)\n",
    "    ax1.grid(True)\n",
    "    ax1.xaxis.set_major_formatter(mdates.DateFormatter('%Y-%m-%d'))\n",
    "    ax1.xaxis_date()\n",
    "    ax1.autoscale_view()\n",
    "    plt.ylabel('Price')\n",
    "\n",
    "    ax2 = plt.subplot2grid((5,4),(4,0),sharex=ax1,rowspan=1,colspan=4)\n",
    "    ax2.grid(True)\n",
    "\n",
    "    fig.subplots_adjust(hspace=0)\n",
    "    plt.setp( plt.gca().get_xticklabels(), rotation=45, horizontalalignment='right')\n",
    "    plt.setp(ax1.get_xticklabels(),visible=False)\n",
    "    ax1.set_yticks(ax1.get_yticks()[1:])\n",
    "    return ax1,ax2"
   ]
  },
  {
   "cell_type": "code",
   "execution_count": 65,
   "metadata": {
    "collapsed": false
   },
   "outputs": [
    {
     "name": "stdout",
     "output_type": "stream",
     "text": [
      "{'long_mas': [10, 20], 'short_mas': [5, 9]}\n"
     ]
    }
   ],
   "source": [
    "stock_data = stocks['AAPL']\n",
    "\n",
    "class GDStrategy(object):\n",
    "    def __init__(self):\n",
    "        pass\n",
    "    def is_enter(self,data,**kwarg):\n",
    "        price = data['Close']\n",
    "        long_ma = kwarg['long_ma']\n",
    "        short_ma = kwarg['short_ma']\n",
    "        short_ma_data = pd.rolling_mean(price,window=short_ma).dropna()\n",
    "        long_ma_data = pd.rolling_mean(price,window=long_ma).dropna()\n",
    "        if short_ma_data is None or len(short_ma_data) < 2:\n",
    "            return False\n",
    "        if long_ma_data is None or len(long_ma_data) < 2:\n",
    "            return False\n",
    "        if short_ma_data.values[-2] < long_ma_data.values[-2] and short_ma_data.values[-1] > long_ma_data.values[-1]:\n",
    "            return True\n",
    "        return False\n",
    "    def is_exit(self,data,**kwarg):\n",
    "        price = data['Close']\n",
    "        long_ma = kwarg['long_ma']\n",
    "        short_ma = kwarg['short_ma']\n",
    "        short_ma_data = pd.rolling_mean(price,window=short_ma)\n",
    "        long_ma_data = pd.rolling_mean(price,window=long_ma)\n",
    "        if short_ma_data is None or len(short_ma_data) < 2:\n",
    "            return False\n",
    "        if long_ma_data is None or len(long_ma_data) < 2:\n",
    "            return False\n",
    "        if short_ma_data.values[-2] > long_ma_data.values[-2] and short_ma_data.values[-1] < long_ma_data.values[-1]:\n",
    "            return True\n",
    "        return False\n",
    "    \n",
    "def evaluate_strategy(data,strategy,**kwarg):\n",
    "    buying_price = 0.\n",
    "    profit = 0.\n",
    "    for i in range(1,len(data)):\n",
    "        if strategy.is_enter(data[:i],**kwarg):\n",
    "            print 'enter : ',data[:i].index[-1],data[:i]['Close'][-1]\n",
    "            buying_price = data[:i]['Close'][-1]\n",
    "        elif strategy.is_exit(data[:i],**kwarg):\n",
    "            print 'exit : ',data[:i].index[-1],data[:i]['Close'][-1]\n",
    "            profit += data[:i]['Close'][-1]/buying_price - 1.\n",
    "    return profit\n",
    "        \n",
    "def optimize_strategy(data,strategy,**kwarg):\n",
    "    print kwarg\n",
    "\n",
    "gds = GDStrategy()\n",
    "# print evaluate_strategy(stock_data,gds,long_ma=20,short_ma=5)\n",
    "optimize_strategy(stock_data,gds,long_mas=[10,20],short_mas=[5,9])\n",
    "\n",
    "# long_ma = pd.rolling_mean(stock_data['Close'],window=20).dropna()\n",
    "# short_ma = pd.rolling_mean(stock_data['Close'],window=5).dropna()\n",
    "# ax1,ax2 = plot_chart(stock_data)\n",
    "# ax1.plot(long_ma.index.values,long_ma.values)\n",
    "# ax1.plot(short_ma.index.values,short_ma.values)"
   ]
  }
 ],
 "metadata": {
  "kernelspec": {
   "display_name": "Python 2",
   "language": "python",
   "name": "python2"
  },
  "language_info": {
   "codemirror_mode": {
    "name": "ipython",
    "version": 2
   },
   "file_extension": ".py",
   "mimetype": "text/x-python",
   "name": "python",
   "nbconvert_exporter": "python",
   "pygments_lexer": "ipython2",
   "version": "2.7.11"
  }
 },
 "nbformat": 4,
 "nbformat_minor": 0
}
