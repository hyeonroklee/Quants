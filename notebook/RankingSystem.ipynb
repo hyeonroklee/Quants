{
 "cells": [
  {
   "cell_type": "code",
   "execution_count": 22,
   "metadata": {
    "collapsed": true
   },
   "outputs": [],
   "source": [
    "%matplotlib inline\n",
    "\n",
    "import numpy as np\n",
    "import pandas as pd\n",
    "from pandas_datareader import data\n",
    "from sklearn.preprocessing import StandardScaler, PolynomialFeatures\n",
    "from sklearn.linear_model import LinearRegression\n",
    "import scipy.optimize as opt\n",
    "import scipy.stats as st\n",
    "import matplotlib.pyplot as plt"
   ]
  },
  {
   "cell_type": "code",
   "execution_count": 23,
   "metadata": {
    "collapsed": true
   },
   "outputs": [],
   "source": [
    "rom_date = '2016-01-01'\n",
    "to_date = '2016-03-01'\n",
    "symbols = ['AAPL','GOOG','AMZN','FB','MSFT']\n",
    "\n",
    "bench_raw_data =  data.DataReader('SPY','yahoo',from_date,to_date)\n",
    "stock_raw_data = {}\n",
    "for symbol in symbols:\n",
    "    stock_raw_data[symbol] = data.DataReader(symbol,'yahoo',from_date,to_date)"
   ]
  },
  {
   "cell_type": "code",
   "execution_count": 102,
   "metadata": {
    "collapsed": false
   },
   "outputs": [
    {
     "name": "stdout",
     "output_type": "stream",
     "text": [
      "weight      :  [[  0.00000000e+00   2.69784195e-14   1.00000000e+00]]\n",
      "sharp ratio :  -0.031534467855\n",
      "return      :  -0.000619442268094\n",
      "variance    :  0.000385860799253\n"
     ]
    }
   ],
   "source": [
    "class stock(object):\n",
    "    def __init__(self,symbol,data):\n",
    "        self._prices = data['Close'] \n",
    "        self._ret = self._prices.pct_change()[1:]\n",
    "        self._alpha = None\n",
    "        self._beta = None\n",
    "    def compute_alpha_beta(self,bench):\n",
    "        bench_ret = bench['Close'].pct_change()[1:]\n",
    "        x_ret = np.array(bench_ret.tolist()).reshape(len(bench_ret),1)\n",
    "        y_ret = np.array(self._ret.tolist()).reshape(len(self._ret),1)\n",
    "        reg = LinearRegression()\n",
    "        reg.fit(X=x_ret,y=y_ret)\n",
    "        self._beta = reg.coef_[0,0]\n",
    "        self._alpha = reg.intercept_[0]\n",
    "    def score(self):\n",
    "        return np.mean(self._ret.tolist()) + (-10)*np.abs(self._beta) + 10*self._alpha\n",
    "    \n",
    "class portfolio(object):\n",
    "    def __init__(self,data):\n",
    "        self._data = data\n",
    "        self._n = len(data.columns.values)\n",
    "        self._w = np.matrix([np.ones(self._n)/self._n])\n",
    "        self._r = np.matrix([data.mean().values]).T\n",
    "        self._c = np.matrix(data.cov().values)\n",
    "    \n",
    "    def sharpe_ratio(self,w,r,c,rf):\n",
    "        _w = np.matrix(w)\n",
    "        _c = np.matrix(c)\n",
    "        _r = np.matrix(r)\n",
    "        return ((_w*_r-rf)[0,0])/(np.sqrt(_w*_c*_w.T)[0,0])\n",
    "    \n",
    "    def fitness(self,w,r,c,rf=0.0):\n",
    "        return 1/self.sharpe_ratio(w,r,c,rf)\n",
    "    \n",
    "    def fitness_by_target_ret(self,w,r,c,rf=0.0):\n",
    "        _w = np.matrix(w)\n",
    "        _c = np.matrix(c)\n",
    "        _r = np.matrix(r)\n",
    "        return np.sqrt(_w*_c*_w.T)[0,0] + 100*np.abs((_w*_r)[0,0]-rf)\n",
    "    \n",
    "    def show_result(self,x):\n",
    "        _w = np.matrix(x)\n",
    "        print 'weight      : ',_w\n",
    "        print 'sharp ratio : ',self.sharpe_ratio(_w,self._r,self._c,rf=0.0)\n",
    "        print 'return      : ', (_w * self._r)[0,0]\n",
    "        print 'variance    : ', (_w * self._c * _w.T)[0,0]\n",
    "    \n",
    "    def optimize(self):\n",
    "        rf = 0.001\n",
    "        b = [ (0.,1.) for i in range(self._n)]\n",
    "        c = ({'type':'eq', 'fun': lambda w: sum(w)-1. })\n",
    "        result = opt.minimize(self.fitness, self._w, \n",
    "                              args=(self._r,self._c,rf) ,method='SLSQP',constraints=c,bounds=b)\n",
    "        self.show_result(result.x)\n",
    "        \n",
    "    def optimize_by_target_ret(self,rf=0.0):\n",
    "        b = [ (0.,1.) for i in range(self._n)]\n",
    "        c = ({'type':'eq', 'fun': lambda w: sum(w)-1. })\n",
    "        result = opt.minimize(self.fitness_by_target_ret, self._w, \n",
    "                              args=(self._r,self._c,rf) ,method='SLSQP',constraints=c,bounds=b)\n",
    "        self.show_result(result.x)\n",
    "    \n",
    "class RankingSystem(object):\n",
    "    def __init__(self,stock_data,bench_data):\n",
    "        self._bench = bench_data\n",
    "        self._stocks = {}\n",
    "        self._stock_scores = {}\n",
    "        self._portfolio = None\n",
    "        for symbol in stock_data:\n",
    "            s = stock(symbol,stock_data[symbol])\n",
    "            s.compute_alpha_beta(self._bench)\n",
    "            self._stocks[symbol] = s\n",
    "            self._stock_scores[symbol] = s.score()\n",
    "            \n",
    "    def construct_portfolio(self):\n",
    "        stock_prices = {}\n",
    "        ordered_stocks_by_score = np.array(self._stock_scores.keys())[np.argsort(self._stock_scores.values())[::-1]]\n",
    "        for i in range(3):\n",
    "            symbol = ordered_stocks_by_score[i]\n",
    "            stock_prices[symbol] = self._stocks[symbol]._ret\n",
    "        df = pd.DataFrame(stock_prices)\n",
    "        df = df.dropna()\n",
    "        self._portfolio = portfolio(df)\n",
    "        \n",
    "    def optimize_portfolio(self):\n",
    "        self._portfolio.optimize()\n",
    "    \n",
    "    def test_forward(self):\n",
    "        pass\n",
    "        \n",
    "    \n",
    "    \n",
    "r = RankingSystem(stock_raw_data,bench_raw_data)\n",
    "r.construct_portfolio()\n",
    "r.optimize_portfolio()\n",
    "r.test_forward()"
   ]
  }
 ],
 "metadata": {
  "kernelspec": {
   "display_name": "Python 2",
   "language": "python",
   "name": "python2"
  },
  "language_info": {
   "codemirror_mode": {
    "name": "ipython",
    "version": 2
   },
   "file_extension": ".py",
   "mimetype": "text/x-python",
   "name": "python",
   "nbconvert_exporter": "python",
   "pygments_lexer": "ipython2",
   "version": "2.7.11"
  }
 },
 "nbformat": 4,
 "nbformat_minor": 0
}
