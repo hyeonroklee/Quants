{
 "cells": [
  {
   "cell_type": "code",
   "execution_count": 2,
   "metadata": {
    "collapsed": false
   },
   "outputs": [],
   "source": [
    "%matplotlib inline\n",
    "\n",
    "import datetime as dt\n",
    "import numpy as np\n",
    "import pandas as pd\n",
    "from pandas_datareader import data\n",
    "from sklearn.preprocessing import StandardScaler, PolynomialFeatures\n",
    "from sklearn.linear_model import LinearRegression\n",
    "import scipy.optimize as opt\n",
    "import scipy.stats as st\n",
    "import matplotlib.pyplot as plt"
   ]
  },
  {
   "cell_type": "code",
   "execution_count": 53,
   "metadata": {
    "collapsed": false
   },
   "outputs": [],
   "source": [
    "train_from_date = '2015-01-01'\n",
    "train_to_date = '2015-09-30'\n",
    "test_from_date = '2015-10-01'\n",
    "test_to_date = '2015-12-31'\n",
    "symbols = ['AAPL','GOOG','AMZN','FB','MSFT']\n",
    "\n",
    "train_bench_raw_data =  data.DataReader('SPY','yahoo',train_from_date,train_to_date)\n",
    "test_bench_raw_data = data.DataReader('SPY','yahoo',test_from_date,test_to_date)\n",
    "\n",
    "train_stock_raw_data = {}\n",
    "test_stock_raw_data = {}\n",
    "for symbol in symbols:\n",
    "    train_stock_raw_data[symbol] = data.DataReader(symbol,'yahoo',train_from_date,train_to_date)\n",
    "    test_stock_raw_data[symbol] = data.DataReader(symbol,'yahoo',test_from_date,test_to_date)"
   ]
  },
  {
   "cell_type": "code",
   "execution_count": 65,
   "metadata": {
    "collapsed": false
   },
   "outputs": [
    {
     "name": "stdout",
     "output_type": "stream",
     "text": [
      "weight      :  [[ 1.  0.  0.]]\n",
      "sharp ratio :  0.131288913205\n",
      "return      :  0.00295270259795\n",
      "variance    :  0.000505805218498\n"
     ]
    },
    {
     "data": {
      "text/plain": [
       "[<matplotlib.lines.Line2D at 0x1101a7910>]"
      ]
     },
     "execution_count": 65,
     "metadata": {},
     "output_type": "execute_result"
    },
    {
     "data": {
      "image/png": "[encoded data removed]",
      "text/plain": [
       "<matplotlib.figure.Figure at 0x10e6c8910>"
      ]
     },
     "metadata": {},
     "output_type": "display_data"
    }
   ],
   "source": [
    "class stock(object):\n",
    "    def __init__(self,symbol,data):\n",
    "        self._prices = data['Close'] \n",
    "        self._ret = self._prices.pct_change()[1:]\n",
    "        self._alpha = None\n",
    "        self._beta = None\n",
    "    def compute_alpha_beta(self,bench):\n",
    "        bench_ret = bench['Close'].pct_change()[1:]\n",
    "        x_ret = np.array(bench_ret.tolist()).reshape(len(bench_ret),1)\n",
    "        y_ret = np.array(self._ret.tolist()).reshape(len(self._ret),1)\n",
    "        reg = LinearRegression()\n",
    "        reg.fit(X=x_ret,y=y_ret)\n",
    "        self._beta = reg.coef_[0,0]\n",
    "        self._alpha = reg.intercept_[0]\n",
    "    def score(self):\n",
    "        return np.mean(self._ret.tolist()) + (-10)*np.abs(self._beta) + 10*self._alpha\n",
    "    \n",
    "class portfolio(object):\n",
    "    def __init__(self,data):\n",
    "        self._data = data\n",
    "        self._n = len(data.columns.values)\n",
    "        self._w = np.matrix([np.ones(self._n)/self._n])\n",
    "        self._r = np.matrix([data.mean().values]).T\n",
    "        self._c = np.matrix(data.cov().values)\n",
    "    \n",
    "    def sharpe_ratio(self,w,r,c,rf):\n",
    "        _w = np.matrix(w)\n",
    "        _c = np.matrix(c)\n",
    "        _r = np.matrix(r)\n",
    "        return ((_w*_r-rf)[0,0])/(np.sqrt(_w*_c*_w.T)[0,0])\n",
    "    \n",
    "    def fitness(self,w,r,c,rf=0.0):\n",
    "        return 1/self.sharpe_ratio(w,r,c,rf)\n",
    "    \n",
    "    def fitness_by_target_ret(self,w,r,c,rf=0.0):\n",
    "        _w = np.matrix(w)\n",
    "        _c = np.matrix(c)\n",
    "        _r = np.matrix(r)\n",
    "        return np.sqrt(_w*_c*_w.T)[0,0] + 100*np.abs((_w*_r)[0,0]-rf)\n",
    "    \n",
    "    def show_result(self,x):\n",
    "        _w = np.matrix(x)\n",
    "        print 'weight      : ',_w\n",
    "        print 'sharp ratio : ',self.sharpe_ratio(_w,self._r,self._c,rf=0.0)\n",
    "        print 'return      : ', (_w * self._r)[0,0]\n",
    "        print 'variance    : ', (_w * self._c * _w.T)[0,0]\n",
    "    \n",
    "    def optimize(self):\n",
    "        rf = 0.001\n",
    "        b = [ (0.,1.) for i in range(self._n)]\n",
    "        c = ({'type':'eq', 'fun': lambda w: sum(w)-1. })\n",
    "        result = opt.minimize(self.fitness, self._w, \n",
    "                              args=(self._r,self._c,rf) ,method='SLSQP',constraints=c,bounds=b)\n",
    "        self.show_result(result.x)\n",
    "        \n",
    "    def optimize_by_target_ret(self,rf=0.0):\n",
    "        b = [ (0.,1.) for i in range(self._n)]\n",
    "        c = ({'type':'eq', 'fun': lambda w: sum(w)-1. })\n",
    "        result = opt.minimize(self.fitness_by_target_ret, self._w, \n",
    "                              args=(self._r,self._c,rf) ,method='SLSQP',constraints=c,bounds=b)\n",
    "        self.show_result(result.x)\n",
    "    \n",
    "    def test_forward(self,data):\n",
    "        start_price = {}\n",
    "        portfolio_profit = []\n",
    "        symbols = self._data.columns.values\n",
    "        for symbol in symbols:\n",
    "            start_price[symbol] = data[symbol]['Close'].ix[0]\n",
    "        for i in range(len(data[symbols[0]].index)):\n",
    "            total_profit = 0\n",
    "            for symbol in symbols:\n",
    "                total_profit += 0.33 * (data[symbol]['Close'].ix[i] / start_price[symbol] - 1)\n",
    "            portfolio_profit.append(total_profit)\n",
    "        return portfolio_profit\n",
    "    \n",
    "class RankingSystem(object):\n",
    "    def __init__(self,stock_data,bench_data):\n",
    "        self._bench = bench_data\n",
    "        self._stocks = {}\n",
    "        self._stock_scores = {}\n",
    "        self._portfolio = None\n",
    "        for symbol in stock_data:\n",
    "            s = stock(symbol,stock_data[symbol])\n",
    "            s.compute_alpha_beta(self._bench)\n",
    "            self._stocks[symbol] = s\n",
    "            self._stock_scores[symbol] = s.score()\n",
    "            \n",
    "    def construct_portfolio(self):\n",
    "        stock_prices = {}\n",
    "        ordered_stocks_by_score = np.array(self._stock_scores.keys())[np.argsort(self._stock_scores.values())[::-1]]\n",
    "        for i in range(3):\n",
    "            symbol = ordered_stocks_by_score[i]\n",
    "            stock_prices[symbol] = self._stocks[symbol]._ret\n",
    "        df = pd.DataFrame(stock_prices)\n",
    "        df = df.dropna()\n",
    "        self._portfolio = portfolio(df)\n",
    "        \n",
    "    def optimize_portfolio(self):\n",
    "        self._portfolio.optimize()\n",
    "    \n",
    "    def test_forward(self,data,bench_data):\n",
    "        bench_profit = []\n",
    "        bench_start_price = bench_data['Close'].ix[0]\n",
    "        portfolio_profit = self._portfolio.test_forward(data)\n",
    "        for i in range(len(bench_data['Close'].index)):\n",
    "            bench_profit.append( bench_data['Close'].ix[i] / bench_start_price -1 )\n",
    "        return bench_profit,portfolio_profit\n",
    "    \n",
    "r = RankingSystem(train_stock_raw_data,train_bench_raw_data)\n",
    "r.construct_portfolio()\n",
    "r.optimize_portfolio()\n",
    "bench_profit,portfolio_profit = r.test_forward(test_stock_raw_data,test_bench_raw_data)\n",
    "\n",
    "plt.plot(range(len(bench_profit)),bench_profit)\n",
    "plt.plot(range(len(portfolio_profit)),portfolio_profit)"
   ]
  }
 ],
 "metadata": {
  "kernelspec": {
   "display_name": "Python 2",
   "language": "python",
   "name": "python2"
  },
  "language_info": {
   "codemirror_mode": {
    "name": "ipython",
    "version": 2
   },
   "file_extension": ".py",
   "mimetype": "text/x-python",
   "name": "python",
   "nbconvert_exporter": "python",
   "pygments_lexer": "ipython2",
   "version": "2.7.11"
  }
 },
 "nbformat": 4,
 "nbformat_minor": 0
}
