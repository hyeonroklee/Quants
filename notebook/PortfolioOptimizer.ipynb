{
 "cells": [
  {
   "cell_type": "code",
   "execution_count": 1,
   "metadata": {
    "collapsed": false
   },
   "outputs": [],
   "source": [
    "%matplotlib inline\n",
    "\n",
    "import numpy as np\n",
    "import pandas as pd\n",
    "from pandas_datareader import data\n",
    "from sklearn.preprocessing import StandardScaler, PolynomialFeatures\n",
    "from sklearn.linear_model import LinearRegression\n",
    "import scipy.optimize as opt\n",
    "import matplotlib.pyplot as plt"
   ]
  },
  {
   "cell_type": "code",
   "execution_count": 2,
   "metadata": {
    "collapsed": true
   },
   "outputs": [],
   "source": [
    "class stock(object):\n",
    "    def __init__(self,symbol,from_date,to_date):\n",
    "        self.raw_data = data.DataReader(symbol,'yahoo',from_date,to_date)\n",
    "        self.ret = self.raw_data['Close'].pct_change()[1:]"
   ]
  },
  {
   "cell_type": "code",
   "execution_count": 3,
   "metadata": {
    "collapsed": false
   },
   "outputs": [],
   "source": [
    "from_date = '2016-01-01'\n",
    "to_date = '2016-03-01'\n",
    "symbols = ['AAPL','GOOG','AMZN','FB','MSFT']\n",
    "bench = data.DataReader('SPY','yahoo',from_date,to_date)['Close'].pct_change()[1:]\n",
    "stocks = {}\n",
    "for symbol in symbols:\n",
    "    stocks[symbol] = stock(symbol=symbol,from_date=from_date,to_date=to_date)"
   ]
  },
  {
   "cell_type": "code",
   "execution_count": 4,
   "metadata": {
    "collapsed": false
   },
   "outputs": [
    {
     "name": "stdout",
     "output_type": "stream",
     "text": [
      "AAPL   -0.000949\n",
      "AMZN   -0.001937\n",
      "FB      0.002384\n",
      "GOOG   -0.000619\n",
      "MSFT   -0.000846\n",
      "dtype: float64\n",
      "          AAPL      AMZN        FB      GOOG      MSFT\n",
      "AAPL  0.000513  0.000322  0.000374  0.000236  0.000361\n",
      "AMZN  0.000322  0.001037  0.000787  0.000405  0.000317\n",
      "FB    0.000374  0.000787  0.001166  0.000531  0.000455\n",
      "GOOG  0.000236  0.000405  0.000531  0.000386  0.000276\n",
      "MSFT  0.000361  0.000317  0.000455  0.000276  0.000440\n"
     ]
    }
   ],
   "source": [
    "stock_prices = {}\n",
    "for symbol in stocks:\n",
    "    stock_prices[symbol] = stocks[symbol].ret\n",
    "df = pd.DataFrame(stock_prices)\n",
    "df = df.dropna()\n",
    "print df.mean()\n",
    "print df.cov()"
   ]
  },
  {
   "cell_type": "code",
   "execution_count": 10,
   "metadata": {
    "collapsed": false
   },
   "outputs": [
    {
     "name": "stdout",
     "output_type": "stream",
     "text": [
      "weight      :  [[ 0.09967216  0.09967216  0.60131134  0.09967216  0.09967216]]\n",
      "sharp ratio :  0.0367345613268\n",
      "return      :  0.000999684361617\n",
      "variance    :  0.000740586993838\n",
      "weight      :  [[  1.32476371e-01   8.94466792e-18   5.64036451e-01   1.66222423e-01\n",
      "    1.37264754e-01]]\n",
      "sharp ratio :  0.0388871772988\n",
      "return      :  0.000999683122079\n",
      "variance    :  0.000660863672308\n"
     ]
    }
   ],
   "source": [
    "class portfolio(object):\n",
    "    def __init__(self,data):\n",
    "        self._data = data\n",
    "        self._n = len(data.columns.values)\n",
    "        self._w = np.matrix([np.ones(self._n)/self._n])\n",
    "        self._r = np.matrix([data.mean().values]).T\n",
    "        self._c = np.matrix(data.cov().values)\n",
    "    \n",
    "    def sharpe_ratio(self,w,r,c,rf):\n",
    "        _w = np.matrix(w)\n",
    "        _c = np.matrix(c)\n",
    "        _r = np.matrix(r)\n",
    "        return ((_w*_r-rf)[0,0])/(np.sqrt(_w*_c*_w.T)[0,0])\n",
    "    \n",
    "    def fitness(self,w,r,c,rf=0.0):\n",
    "        return 1/self.sharpe_ratio(w,r,c,rf)\n",
    "    \n",
    "    def fitness_by_target_ret(self,w,r,c,rf=0.0):\n",
    "        _w = np.matrix(w)\n",
    "        _c = np.matrix(c)\n",
    "        _r = np.matrix(r)\n",
    "        return np.sqrt(_w*_c*_w.T)[0,0] + 100*np.abs((_w*_r)[0,0]-rf)\n",
    "    \n",
    "    def show_result(self,x):\n",
    "        _w = np.matrix(x)\n",
    "        print 'weight      : ',_w\n",
    "        print 'sharp ratio : ',self.sharpe_ratio(_w,self._r,self._c,rf=0.0)\n",
    "        print 'return      : ', (_w * self._r)[0,0]\n",
    "        print 'variance    : ', (_w * self._c * _w.T)[0,0]\n",
    "    \n",
    "    def optimize(self):\n",
    "        rf = 0.001\n",
    "        b = [ (0.,1.) for i in range(self._n)]\n",
    "        c = ({'type':'eq', 'fun': lambda w: sum(w)-1. })\n",
    "        result = opt.minimize(self.fitness, self._w, \n",
    "                              args=(self._r,self._c,rf) ,method='SLSQP',constraints=c,bounds=b)\n",
    "        self.show_result(result.x)\n",
    "        \n",
    "    def optimize_by_target_ret(self,rf=0.0):\n",
    "        b = [ (0.,1.) for i in range(self._n)]\n",
    "        c = ({'type':'eq', 'fun': lambda w: sum(w)-1. })\n",
    "        result = opt.minimize(self.fitness_by_target_ret, self._w, \n",
    "                              args=(self._r,self._c,rf) ,method='SLSQP',constraints=c,bounds=b)\n",
    "        self.show_result(result.x)\n",
    "    \n",
    "        \n",
    "p = portfolio(df)\n",
    "p.optimize()\n",
    "p.optimize_by_target_ret(0.000999684361617)"
   ]
  },
  {
   "cell_type": "code",
   "execution_count": null,
   "metadata": {
    "collapsed": true
   },
   "outputs": [],
   "source": []
  }
 ],
 "metadata": {
  "kernelspec": {
   "display_name": "Python 2",
   "language": "python",
   "name": "python2"
  },
  "language_info": {
   "codemirror_mode": {
    "name": "ipython",
    "version": 2
   },
   "file_extension": ".py",
   "mimetype": "text/x-python",
   "name": "python",
   "nbconvert_exporter": "python",
   "pygments_lexer": "ipython2",
   "version": "2.7.11"
  }
 },
 "nbformat": 4,
 "nbformat_minor": 0
}
