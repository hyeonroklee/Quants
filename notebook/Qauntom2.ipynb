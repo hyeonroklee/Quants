{
 "cells": [
  {
   "cell_type": "code",
   "execution_count": 22,
   "metadata": {
    "collapsed": true
   },
   "outputs": [],
   "source": [
    "%matplotlib inline\n",
    "\n",
    "import numpy as np\n",
    "\n",
    "import pandas as pd\n",
    "from pandas_datareader import data\n",
    "\n",
    "import matplotlib.pyplot as plt\n",
    "import matplotlib.finance as mfinance\n",
    "import matplotlib.dates as mdates\n",
    "import matplotlib.ticker as mticker\n",
    "import matplotlib.transforms as mtransforms\n",
    "\n",
    "from statsmodels import stats\n",
    "import scipy.optimize as opt\n",
    "\n",
    "from sklearn.preprocessing import StandardScaler\n",
    "from sklearn.linear_model import LogisticRegression,LinearRegression"
   ]
  },
  {
   "cell_type": "code",
   "execution_count": 6,
   "metadata": {
    "collapsed": false
   },
   "outputs": [],
   "source": [
    "symbol = 'GOOG'\n",
    "from_date = '2016-01-01'\n",
    "to_date = '2016-03-31'\n",
    "goog_data = data.DataReader(symbol,'yahoo',from_date,to_date)"
   ]
  },
  {
   "cell_type": "code",
   "execution_count": 42,
   "metadata": {
    "collapsed": true
   },
   "outputs": [],
   "source": [
    "def show_chart(prices,indicators=None,moving_average=None,buying_history=None,selling_history=None):\n",
    "\n",
    "    dates = [ mdates.date2num(date) for date in prices.index]\n",
    "    open_prices = prices['Open']\n",
    "    high_prices = prices['High']\n",
    "    low_prices = prices['Low']\n",
    "    close_prices = prices['Close']\n",
    "    volumes = prices['Volume'] if 'Volume' in prices.columns else None\n",
    "\n",
    "    chart_data = np.matrix([dates,open_prices,high_prices,low_prices,close_prices]).T.tolist()\n",
    "\n",
    "    fig = plt.figure()\n",
    "    ax1 = plt.subplot2grid((5,4),(0,0),rowspan=4,colspan=4)\n",
    "    mfinance.candlestick_ohlc(ax1,chart_data,colorup='r',colordown='b',alpha=0.7)\n",
    "    ax1.grid(True)\n",
    "    ax1.xaxis.set_major_formatter(mdates.DateFormatter('%Y-%m-%d'))\n",
    "\n",
    "    plt.ylabel('Price')\n",
    "    ax2 = plt.subplot2grid((5,4),(4,0),sharex=ax1,rowspan=1,colspan=4)\n",
    "    ax2.grid(True)\n",
    "\n",
    "    if buying_history is not None and len(buying_history) > 0:\n",
    "        dx, dy = -3/72., 0.\n",
    "        offset = mtransforms.ScaledTranslation(dx, dy,fig.dpi_scale_trans)\n",
    "        shadow_transform = ax1.transData + offset\n",
    "\n",
    "        buying_dates = [ mdates.date2num(date) for date in buying_history.index]\n",
    "        ax1.plot(buying_dates,buying_history.values,'r>',transform=shadow_transform)\n",
    "\n",
    "    if selling_history is not None and len(selling_history) > 0:\n",
    "        dx, dy = +3/72., 0.\n",
    "        offset = mtransforms.ScaledTranslation(dx, dy,fig.dpi_scale_trans)\n",
    "        shadow_transform = ax1.transData + offset\n",
    "\n",
    "        selling_dates = [ mdates.date2num(date) for date in selling_history.index]\n",
    "        ax1.plot(selling_dates,selling_history.values,'b<',transform=shadow_transform)\n",
    "\n",
    "    if moving_average is not None:\n",
    "        for w in moving_average:\n",
    "            ma = sma(close_prices,w)\n",
    "            ax1.plot(dates[-len(ma):],ma)\n",
    "\n",
    "    if indicators is not None and 'bollinger' in indicators:\n",
    "        middle,upper,lower = bollinger_bands(close_prices)\n",
    "        ax1.plot(dates[-len(middle):],middle)\n",
    "        ax1.plot(dates[-len(upper):],upper)\n",
    "        ax1.plot(dates[-len(lower):],lower)\n",
    "    if indicators is not None and 'macd' in indicators:\n",
    "        macd_line,macd_signal,macd_hist,ma_long,ma_short = macd(close_prices)\n",
    "        ax2.plot(dates[-len(macd_line):],macd_line)\n",
    "        ax2.plot(dates[-len(macd_signal):],macd_signal)\n",
    "        ax2.bar(dates[-len(macd_hist):],macd_hist)\n",
    "        ax2.axes.yaxis.set_ticklabels([])\n",
    "        plt.ylabel('MACD')\n",
    "    elif indicators is not None and 'rsi' in indicators:\n",
    "        r,s = rsi(close_prices)\n",
    "        ax2.plot(dates[-len(r):],r)\n",
    "        ax2.plot(dates[-len(s):],s)\n",
    "        plt.ylabel('RSI')\n",
    "    elif volumes is not None:\n",
    "        plt.ylabel('Volume')\n",
    "        ax2.bar(dates[-len(volumes):],volumes)\n",
    "        ax2.axes.yaxis.set_ticklabels([])\n",
    "\n",
    "    fig.subplots_adjust(hspace=0)\n",
    "    plt.setp( plt.gca().get_xticklabels(), rotation=45, horizontalalignment='right')\n",
    "    plt.setp(ax1.get_xticklabels(),visible=False)\n",
    "    ax1.set_yticks(ax1.get_yticks()[1:])\n",
    "    return ax1,ax2\n",
    "#     plt.show()\n"
   ]
  },
  {
   "cell_type": "code",
   "execution_count": 46,
   "metadata": {
    "collapsed": false
   },
   "outputs": [
    {
     "data": {
      "text/plain": [
       "<matplotlib.axes._subplots.AxesSubplot at 0x110066dd0>"
      ]
     },
     "execution_count": 46,
     "metadata": {},
     "output_type": "execute_result"
    },
    {
     "data": {
      "image/png": "[encoded data removed]",
      "text/plain": [
       "<matplotlib.figure.Figure at 0x1100759d0>"
      ]
     },
     "metadata": {},
     "output_type": "display_data"
    }
   ],
   "source": [
    "ax1,ax2 = show_chart(goog_data[goog_data.columns[:5]])\n",
    "pd.rolling_mean(goog_data['Close'],window=10)[9:].plot(ax=ax1)\n",
    "pd.rolling_mean(goog_data['Close'],window=20)[19:].plot(ax=ax1)"
   ]
  }
 ],
 "metadata": {
  "kernelspec": {
   "display_name": "Python 2",
   "language": "python",
   "name": "python2"
  },
  "language_info": {
   "codemirror_mode": {
    "name": "ipython",
    "version": 2
   },
   "file_extension": ".py",
   "mimetype": "text/x-python",
   "name": "python",
   "nbconvert_exporter": "python",
   "pygments_lexer": "ipython2",
   "version": "2.7.11"
  }
 },
 "nbformat": 4,
 "nbformat_minor": 0
}
