{
 "cells": [
  {
   "cell_type": "code",
   "execution_count": 25,
   "metadata": {
    "collapsed": true
   },
   "outputs": [],
   "source": [
    "%matplotlib inline\n",
    "\n",
    "import numpy as np\n",
    "import matplotlib.pyplot as plt\n",
    "from pandas_datareader import data\n",
    "from sklearn.preprocessing import PolynomialFeatures\n",
    "from sklearn.linear_model import LinearRegression\n",
    "from sklearn import datasets"
   ]
  },
  {
   "cell_type": "code",
   "execution_count": 38,
   "metadata": {
    "collapsed": false
   },
   "outputs": [],
   "source": [
    "from_date = '2016-01-01'\n",
    "to_date = '2016-03-01'\n",
    "nasdaq = data.DataReader('^IXIC','yahoo',from_date,to_date)\n",
    "apple = data.DataReader('AAPL','yahoo',from_date,to_date)\n",
    "google = data.DataReader('GOOG','yahoo',from_date,to_date)\n",
    "\n",
    "nasdaq_ret = nasdaq['Close'].pct_change()[1:]\n",
    "apple_ret = apple['Close'].pct_change()[1:]\n",
    "google_ret = google['Close'].pct_change()[1:]"
   ]
  },
  {
   "cell_type": "code",
   "execution_count": 40,
   "metadata": {
    "collapsed": true
   },
   "outputs": [],
   "source": [
    "apple_reg = LinearRegression()\n",
    "google_reg = LinearRegression()"
   ]
  },
  {
   "cell_type": "code",
   "execution_count": 39,
   "metadata": {
    "collapsed": false
   },
   "outputs": [],
   "source": [
    "_nasdaq_ret = np.array(nasdaq_ret.tolist()).reshape(len(nasdaq_ret),1)\n",
    "_apple_ret = np.array(apple_ret.tolist()).reshape(len(apple_ret),1)\n",
    "_google_ret = np.array(google_ret.tolist()).reshape(len(google_ret),1)"
   ]
  },
  {
   "cell_type": "code",
   "execution_count": 41,
   "metadata": {
    "collapsed": false
   },
   "outputs": [
    {
     "data": {
      "text/plain": [
       "LinearRegression(copy_X=True, fit_intercept=True, n_jobs=1, normalize=False)"
      ]
     },
     "execution_count": 41,
     "metadata": {},
     "output_type": "execute_result"
    }
   ],
   "source": [
    "apple_reg.fit(X=_nasdaq_ret,y=_apple_ret)\n",
    "google_reg.fit(X=_nasdaq_ret,y=_google_ret)"
   ]
  },
  {
   "cell_type": "code",
   "execution_count": 42,
   "metadata": {
    "collapsed": false
   },
   "outputs": [
    {
     "name": "stdout",
     "output_type": "stream",
     "text": [
      "beta = 1.118279, alpha 0.000175\n"
     ]
    },
    {
     "data": {
      "image/png": "[encoded data removed]",
      "text/plain": [
       "<matplotlib.figure.Figure at 0x10e327d90>"
      ]
     },
     "metadata": {},
     "output_type": "display_data"
    }
   ],
   "source": [
    "plt.plot(nasdaq_ret.tolist(),apple_ret.tolist(),'ro')\n",
    "x = np.array(nasdaq_ret.tolist())\n",
    "y = x*apple_reg.coef_[0,0] + apple_reg.intercept_[0]\n",
    "plt.plot(x.tolist(),y.tolist())\n",
    "print 'beta = %f, alpha %f' % (apple_reg.coef_[0,0],apple_reg.intercept_[0])"
   ]
  },
  {
   "cell_type": "code",
   "execution_count": 44,
   "metadata": {
    "collapsed": false
   },
   "outputs": [
    {
     "name": "stdout",
     "output_type": "stream",
     "text": [
      "beta = 0.842305, alpha 0.000227\n"
     ]
    },
    {
     "data": {
      "image/png": "[encoded data removed]",
      "text/plain": [
       "<matplotlib.figure.Figure at 0x10e754d50>"
      ]
     },
     "metadata": {},
     "output_type": "display_data"
    }
   ],
   "source": [
    "plt.plot(nasdaq_ret.tolist(),google_ret.tolist(),'ro')\n",
    "x = np.array(nasdaq_ret.tolist())\n",
    "y = x*google_reg.coef_[0,0] + google_reg.intercept_[0]\n",
    "plt.plot(x.tolist(),y.tolist())\n",
    "print 'beta = %f, alpha %f' % (google_reg.coef_[0,0],google_reg.intercept_[0])"
   ]
  },
  {
   "cell_type": "code",
   "execution_count": 52,
   "metadata": {
    "collapsed": false
   },
   "outputs": [
    {
     "name": "stdout",
     "output_type": "stream",
     "text": [
      "[[ 1.          0.53108583]\n",
      " [ 0.53108583  1.        ]]\n"
     ]
    }
   ],
   "source": [
    "rets = [ google_ret.tolist() , apple_ret.tolist() ]\n",
    "print np.corrcoef(rets)"
   ]
  }
 ],
 "metadata": {
  "kernelspec": {
   "display_name": "Python 2",
   "language": "python",
   "name": "python2"
  },
  "language_info": {
   "codemirror_mode": {
    "name": "ipython",
    "version": 2
   },
   "file_extension": ".py",
   "mimetype": "text/x-python",
   "name": "python",
   "nbconvert_exporter": "python",
   "pygments_lexer": "ipython2",
   "version": "2.7.11"
  }
 },
 "nbformat": 4,
 "nbformat_minor": 0
}
